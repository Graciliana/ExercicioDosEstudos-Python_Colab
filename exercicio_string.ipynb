{
  "nbformat": 4,
  "nbformat_minor": 0,
  "metadata": {
    "colab": {
      "name": "exercicio_string.ipynb",
      "provenance": [],
      "authorship_tag": "ABX9TyNVb/T9yWQBhXV9Cfa4kTnV",
      "include_colab_link": true
    },
    "kernelspec": {
      "name": "python3",
      "display_name": "Python 3"
    }
  },
  "cells": [
    {
      "cell_type": "markdown",
      "metadata": {
        "id": "view-in-github",
        "colab_type": "text"
      },
      "source": [
        "<a href=\"https://colab.research.google.com/github/Graciliana/ExercicioDosEstudos-Python_Colab/blob/master/exercicio_string.ipynb\" target=\"_parent\"><img src=\"https://colab.research.google.com/assets/colab-badge.svg\" alt=\"Open In Colab\"/></a>"
      ]
    },
    {
      "cell_type": "markdown",
      "metadata": {
        "id": "H_5unW9f1hjc",
        "colab_type": "text"
      },
      "source": [
        "1. Crie um algoritmo que solicite o nome do usuario e printe na sequencia: 'Bem Vindo, <nome do usuário>' (facil)\n"
      ]
    },
    {
      "cell_type": "code",
      "metadata": {
        "id": "teP5ga5r1p14",
        "colab_type": "code",
        "colab": {
          "base_uri": "https://localhost:8080/",
          "height": 54
        },
        "outputId": "536b39bf-0941-442c-9f64-a3824dd4c576"
      },
      "source": [
        "nome_do_usuario = input(\"Qual o seu nome?\")\n",
        "print(f\"'Bem Vindx, {nome_do_usuario}! \")"
      ],
      "execution_count": 2,
      "outputs": [
        {
          "output_type": "stream",
          "text": [
            "Qual o seu nome?Jose\n",
            "'Bem Vindx, Jose! \n"
          ],
          "name": "stdout"
        }
      ]
    },
    {
      "cell_type": "markdown",
      "metadata": {
        "id": "Oo0ZomgI1v44",
        "colab_type": "text"
      },
      "source": [
        "2. Crie um algoritmo que solicite do usuario nome e idade, printando \n",
        "as informaçoes organizada em uma frase. (médio)"
      ]
    },
    {
      "cell_type": "code",
      "metadata": {
        "id": "HZAX8ldK13xL",
        "colab_type": "code",
        "colab": {
          "base_uri": "https://localhost:8080/",
          "height": 199
        },
        "outputId": "ce8dd71e-00ae-460c-feb0-e7f0b56499ca"
      },
      "source": [
        "nome_do_heroi = input(\"Qual o seu nome?\")\n",
        "idade_do_heroi = int(input(\"Qual a sua idade?\"))\n",
        "ano_de_nascimento = 2020 - idade_do_heroi\n",
        "print(f\"Olá {nome_do_heroi}, a sua idade é {idade_do_heroi}, você nasceu no ano {ano_de_nascimento}\\n\")\n",
        "# implentação do algoritmo pegando a data do sistema \n",
        "print(\" Vamos Brincar um pouco com a biblioteca Date\\n\")\n",
        "from datetime import date\n",
        "data_atual = date.today()\n",
        "print(data_atual)\n",
        "print(f\"Formatação da data {data_atual.day}/{data_atual.month}/{data_atual.year}\")\n",
        "data_de_nascimento = int(input(\"Em que ano voce nasceu? \"))\n",
        "idade = data_atual.year - data_de_nascimento\n",
        "print(idade)\n",
        "\n"
      ],
      "execution_count": 15,
      "outputs": [
        {
          "output_type": "stream",
          "text": [
            "Qual o seu nome?ana\n",
            "Qual a sua idade?24\n",
            "Olá ana, a sua idade é 24, você nasceu no ano 1996\n",
            "\n",
            " Vamos Brincar um pouco com a biblioteca Date\n",
            "\n",
            "2020-06-19\n",
            "Formatação da data 19/6/2020\n",
            "Em que ano voce nasceu?1996\n",
            "24\n"
          ],
          "name": "stdout"
        }
      ]
    },
    {
      "cell_type": "markdown",
      "metadata": {
        "id": "cKuw4sFg14Zb",
        "colab_type": "text"
      },
      "source": [
        "3. crie um algoritmo que solicite uma palavra e verifique se é palindromo, printando na tela o resultado(dificil)"
      ]
    },
    {
      "cell_type": "code",
      "metadata": {
        "id": "70Gt7j4vAVhT",
        "colab_type": "code",
        "colab": {
          "base_uri": "https://localhost:8080/",
          "height": 126
        },
        "outputId": "cfbda179-266a-4458-c3c0-0013ebccc187"
      },
      "source": [
        "#crie um algoritmo que solicite uma palavra e verifique se é palindromo, printando na tela o resultado(dificil)\n",
        "#palavras palindromo\n",
        "# apos a sopa\n",
        "# a sacada da casa\n",
        "#ama\n",
        "#a torre da derrota\n",
        "#o lobo ama bolo \n",
        "#anotaram a data da maratona\n",
        "palavra = str(input(\"Digite uma palavra: \"))\n",
        "if palavra == palavra[::-1]:\n",
        "  print(f\"A palavra {palavra} Palíndromo!\")\n",
        "else:\n",
        "  print(f\"A palavra {palavra} não é palíndromo!\")\n",
        "\n",
        "# de outra forma\n",
        "frase = str(input('Digite uma frase: ')).strip().upper()\n",
        "print(frase)\n",
        "palavra1 = frase.split()\n",
        "junto = ''.join(palavra1)\n",
        "inverso = junto[::-1]\n",
        "print(f'o inverso de {junto} é {inverso} ')\n",
        "if inverso == junto:\n",
        "  print('Temos um palíndromo!')\n",
        "else:\n",
        "  print('A frase digitada não é um palíndromo!') \n"
      ],
      "execution_count": 18,
      "outputs": [
        {
          "output_type": "stream",
          "text": [
            "Digite uma palavra: ama\n",
            "A palavra ama Palíndromo!\n",
            "Digite uma frase: a torre da derrota\n",
            "A TORRE DA DERROTA\n",
            "o inverso de ATORREDADERROTA é ATORREDADERROTA \n",
            "Temos um palíndromo!\n"
          ],
          "name": "stdout"
        }
      ]
    }
  ]
}