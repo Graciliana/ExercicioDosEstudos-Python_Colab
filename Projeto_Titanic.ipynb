{
  "nbformat": 4,
  "nbformat_minor": 0,
  "metadata": {
    "colab": {
      "name": "Projeto_Titanic.ipynb",
      "provenance": [],
      "authorship_tag": "ABX9TyOop6k8W36N1SAGCQl94NIi",
      "include_colab_link": true
    },
    "kernelspec": {
      "name": "python3",
      "display_name": "Python 3"
    }
  },
  "cells": [
    {
      "cell_type": "markdown",
      "metadata": {
        "id": "view-in-github",
        "colab_type": "text"
      },
      "source": [
        "<a href=\"https://colab.research.google.com/github/Graciliana/ExercicioDosEstudos-Python_Colab/blob/master/Projeto_Titanic.ipynb\" target=\"_parent\"><img src=\"https://colab.research.google.com/assets/colab-badge.svg\" alt=\"Open In Colab\"/></a>"
      ]
    },
    {
      "cell_type": "markdown",
      "metadata": {
        "id": "rMItx_c3rz44",
        "colab_type": "text"
      },
      "source": [
        "# O que podemos apreder com o Titanic ainda hoje - Data Science Project\n",
        "<p>Graciliana Kascher</p>\n",
        "<p>31 de julho de 2020.</p>\n",
        "Qual classe do navio teve mais chance de sobrevivência? Os empregados sobreviveram? As Mulheres e crianças todas sobreviveram? Será que a posição no navio determinou a morte ou a vida dos pessoas? Vamos tentar responder estas perguntas utilizando dados reais.\n",
        "<br>\n",
        "O <b>RMS Titanic</b> foi um navio de passageiro britânico que começou sua construção em março de 1909 e foi lançado ao mar em maio de 1911. O Titanic foi pensado para ser o navio mais luxuoso e mais seguro de sua época, gerando a lenda que nem Deus o afundaria.\n",
        "A embarcação partiu em sua primeira e única viagem inaugural de Southampton para Nova Iorque em 10 de abril de 1912, realizou paradas em Cherbourg-Octeville na França e por Queenstow na Irlanda. Sendo que no dia 14 de abril às 23 horas e 40 minutos ele se colidiu com um iceberg afundando na madrugada do dia seguite com mais  de 1500 pessoas a bordo, um dos maiores desastres marítimos da história.  \n",
        "\n",
        "Seu naufráfio destacou vários pontos fracos de seu projeto, deficiencias nos procedimentos de evacuação de emerg~encia e falhas nas regulamentações marítimas da época. Comissão de inquerito foram instauradas nos Estados Unidos e no Reino Unido, provocando mudanças nas leis internacionais de navegação que permanecem em vigor a mais de um século depois.\n",
        "\n",
        "\n"
      ]
    },
    {
      "cell_type": "markdown",
      "metadata": {
        "id": "X0_eI_o9Bak8",
        "colab_type": "text"
      },
      "source": [
        "# Apresentação dos Dados \n",
        "\n",
        "Esse estudo estará utilizando dados coletados do site https://www.kaggle.com/c/titanic. Com base nas informações dispostas nesse dataset, realizarei Insigjhts acerca dos tripulantes e das circusntancias que envolveram a tragédia. Vale lembrar que tal conjunto de dados não abriga informação de todos os passageiros, mas sim de apenas 891.\n",
        "\n",
        "OUtro proposto é realizar um aplicativo em que se coloca alguns dados como idade, Genero e classe social e ele te informaria qual  seria a probabilidade da pessoa sobreviver o naufrafio do titanic.\n",
        "\n",
        "## Perguntas a serem respondidas:\n",
        "\n",
        "\n",
        "*   Qauntas pessoas sobreviveram ao desastre, segundo este dataset?\n",
        "*   A classe social que teve mais sobreviventes?\n",
        "*   Qual foi porporção de Mulheres e homens que sobreviveram a tragedia?\n",
        "*   Todas as meninas da primeira classe sobreviveram?\n",
        "\n",
        "\n",
        "\n",
        "\n",
        "\n",
        "\n"
      ]
    },
    {
      "cell_type": "markdown",
      "metadata": {
        "id": "u8XoZ86SH1vo",
        "colab_type": "text"
      },
      "source": [
        "###Conhecendo a base Dados Montar Drive para para trabalhar no google Drive"
      ]
    },
    {
      "cell_type": "code",
      "metadata": {
        "id": "Npbq3aqpILlO",
        "colab_type": "code",
        "colab": {
          "base_uri": "https://localhost:8080/",
          "height": 121
        },
        "outputId": "e5df47bc-73ce-4b98-df70-438b9ad7167d"
      },
      "source": [
        "from google.colab import drive\n",
        "drive.mount('/content/drive')"
      ],
      "execution_count": 1,
      "outputs": [
        {
          "output_type": "stream",
          "text": [
            "Go to this URL in a browser: https://accounts.google.com/o/oauth2/auth?client_id=947318989803-6bn6qk8qdgf4n4g3pfee6491hc0brc4i.apps.googleusercontent.com&redirect_uri=urn%3aietf%3awg%3aoauth%3a2.0%3aoob&response_type=code&scope=email%20https%3a%2f%2fwww.googleapis.com%2fauth%2fdocs.test%20https%3a%2f%2fwww.googleapis.com%2fauth%2fdrive%20https%3a%2f%2fwww.googleapis.com%2fauth%2fdrive.photos.readonly%20https%3a%2f%2fwww.googleapis.com%2fauth%2fpeopleapi.readonly\n",
            "\n",
            "Enter your authorization code:\n",
            "··········\n",
            "Mounted at /content/drive\n"
          ],
          "name": "stdout"
        }
      ]
    },
    {
      "cell_type": "markdown",
      "metadata": {
        "id": "WsTrkp3BIoY0",
        "colab_type": "text"
      },
      "source": [
        "###Importando as bibliotecas básicas\n"
      ]
    },
    {
      "cell_type": "code",
      "metadata": {
        "id": "780CxaiWI-mH",
        "colab_type": "code",
        "colab": {
          "base_uri": "https://localhost:8080/",
          "height": 70
        },
        "outputId": "469cf243-4ffa-4240-91f5-962ee4987390"
      },
      "source": [
        "#Algebra Linear\n",
        "import numpy as np\n",
        "\n",
        "\n",
        "#Processamento/ manipulação dos dados\n",
        "import pandas as pd\n",
        "\n",
        "# Visualização dos dados \n",
        "import seaborn as sns\n",
        "%matplotlib inline\n",
        "import matplotlib.pyplot as plt\n",
        "\n",
        "\n",
        "#seleção de valores aleatórios par plotagem\n",
        "import random\n"
      ],
      "execution_count": 2,
      "outputs": [
        {
          "output_type": "stream",
          "text": [
            "/usr/local/lib/python3.6/dist-packages/statsmodels/tools/_testing.py:19: FutureWarning: pandas.util.testing is deprecated. Use the functions in the public API at pandas.testing instead.\n",
            "  import pandas.util.testing as tm\n"
          ],
          "name": "stderr"
        }
      ]
    },
    {
      "cell_type": "markdown",
      "metadata": {
        "id": "CZBscjxhMI5W",
        "colab_type": "text"
      },
      "source": [
        "# Obtendo os dados para analise"
      ]
    },
    {
      "cell_type": "code",
      "metadata": {
        "id": "HNc0HMjWMa5A",
        "colab_type": "code",
        "colab": {
          "base_uri": "https://localhost:8080/",
          "height": 212
        },
        "outputId": "3e3afca9-cc60-442f-9780-dd501522deb1"
      },
      "source": [
        "#importando os dados para analise\n",
        "titanic = pd.read_csv('/content/drive/My Drive/Titanic/titanic_data.csv')\n",
        "print('Este dataset possui %s linhas e %s colunas ' % (titanic.shape[0], titanic.shape[1]))\n",
        "titanic.head()\n"
      ],
      "execution_count": 4,
      "outputs": [
        {
          "output_type": "stream",
          "text": [
            "Este dataset possui 891 linhas e 12 colunas \n"
          ],
          "name": "stdout"
        },
        {
          "output_type": "execute_result",
          "data": {
            "text/html": [
              "<div>\n",
              "<style scoped>\n",
              "    .dataframe tbody tr th:only-of-type {\n",
              "        vertical-align: middle;\n",
              "    }\n",
              "\n",
              "    .dataframe tbody tr th {\n",
              "        vertical-align: top;\n",
              "    }\n",
              "\n",
              "    .dataframe thead th {\n",
              "        text-align: right;\n",
              "    }\n",
              "</style>\n",
              "<table border=\"1\" class=\"dataframe\">\n",
              "  <thead>\n",
              "    <tr style=\"text-align: right;\">\n",
              "      <th></th>\n",
              "      <th>PassengerId</th>\n",
              "      <th>Survived</th>\n",
              "      <th>Pclass</th>\n",
              "      <th>Name</th>\n",
              "      <th>Sex</th>\n",
              "      <th>Age</th>\n",
              "      <th>SibSp</th>\n",
              "      <th>Parch</th>\n",
              "      <th>Ticket</th>\n",
              "      <th>Fare</th>\n",
              "      <th>Cabin</th>\n",
              "      <th>Embarked</th>\n",
              "    </tr>\n",
              "  </thead>\n",
              "  <tbody>\n",
              "    <tr>\n",
              "      <th>0</th>\n",
              "      <td>1</td>\n",
              "      <td>0</td>\n",
              "      <td>3</td>\n",
              "      <td>Braund, Mr. Owen Harris</td>\n",
              "      <td>male</td>\n",
              "      <td>22.0</td>\n",
              "      <td>1</td>\n",
              "      <td>0</td>\n",
              "      <td>A/5 21171</td>\n",
              "      <td>7.2500</td>\n",
              "      <td>NaN</td>\n",
              "      <td>S</td>\n",
              "    </tr>\n",
              "    <tr>\n",
              "      <th>1</th>\n",
              "      <td>2</td>\n",
              "      <td>1</td>\n",
              "      <td>1</td>\n",
              "      <td>Cumings, Mrs. John Bradley (Florence Briggs Th...</td>\n",
              "      <td>female</td>\n",
              "      <td>38.0</td>\n",
              "      <td>1</td>\n",
              "      <td>0</td>\n",
              "      <td>PC 17599</td>\n",
              "      <td>71.2833</td>\n",
              "      <td>C85</td>\n",
              "      <td>C</td>\n",
              "    </tr>\n",
              "    <tr>\n",
              "      <th>2</th>\n",
              "      <td>3</td>\n",
              "      <td>1</td>\n",
              "      <td>3</td>\n",
              "      <td>Heikkinen, Miss. Laina</td>\n",
              "      <td>female</td>\n",
              "      <td>26.0</td>\n",
              "      <td>0</td>\n",
              "      <td>0</td>\n",
              "      <td>STON/O2. 3101282</td>\n",
              "      <td>7.9250</td>\n",
              "      <td>NaN</td>\n",
              "      <td>S</td>\n",
              "    </tr>\n",
              "    <tr>\n",
              "      <th>3</th>\n",
              "      <td>4</td>\n",
              "      <td>1</td>\n",
              "      <td>1</td>\n",
              "      <td>Futrelle, Mrs. Jacques Heath (Lily May Peel)</td>\n",
              "      <td>female</td>\n",
              "      <td>35.0</td>\n",
              "      <td>1</td>\n",
              "      <td>0</td>\n",
              "      <td>113803</td>\n",
              "      <td>53.1000</td>\n",
              "      <td>C123</td>\n",
              "      <td>S</td>\n",
              "    </tr>\n",
              "    <tr>\n",
              "      <th>4</th>\n",
              "      <td>5</td>\n",
              "      <td>0</td>\n",
              "      <td>3</td>\n",
              "      <td>Allen, Mr. William Henry</td>\n",
              "      <td>male</td>\n",
              "      <td>35.0</td>\n",
              "      <td>0</td>\n",
              "      <td>0</td>\n",
              "      <td>373450</td>\n",
              "      <td>8.0500</td>\n",
              "      <td>NaN</td>\n",
              "      <td>S</td>\n",
              "    </tr>\n",
              "  </tbody>\n",
              "</table>\n",
              "</div>"
            ],
            "text/plain": [
              "   PassengerId  Survived  Pclass  ...     Fare Cabin  Embarked\n",
              "0            1         0       3  ...   7.2500   NaN         S\n",
              "1            2         1       1  ...  71.2833   C85         C\n",
              "2            3         1       3  ...   7.9250   NaN         S\n",
              "3            4         1       1  ...  53.1000  C123         S\n",
              "4            5         0       3  ...   8.0500   NaN         S\n",
              "\n",
              "[5 rows x 12 columns]"
            ]
          },
          "metadata": {
            "tags": []
          },
          "execution_count": 4
        }
      ]
    },
    {
      "cell_type": "markdown",
      "metadata": {
        "id": "RWb3QyosT2IG",
        "colab_type": "text"
      },
      "source": [
        "## Exploração/ Análise de Dados"
      ]
    },
    {
      "cell_type": "code",
      "metadata": {
        "id": "sPnpxjuCODte",
        "colab_type": "code",
        "colab": {
          "base_uri": "https://localhost:8080/",
          "height": 336
        },
        "outputId": "9e31af28-2fa8-4f9e-a0d2-e9f2f9865bff"
      },
      "source": [
        "titanic.info()"
      ],
      "execution_count": 5,
      "outputs": [
        {
          "output_type": "stream",
          "text": [
            "<class 'pandas.core.frame.DataFrame'>\n",
            "RangeIndex: 891 entries, 0 to 890\n",
            "Data columns (total 12 columns):\n",
            " #   Column       Non-Null Count  Dtype  \n",
            "---  ------       --------------  -----  \n",
            " 0   PassengerId  891 non-null    int64  \n",
            " 1   Survived     891 non-null    int64  \n",
            " 2   Pclass       891 non-null    int64  \n",
            " 3   Name         891 non-null    object \n",
            " 4   Sex          891 non-null    object \n",
            " 5   Age          714 non-null    float64\n",
            " 6   SibSp        891 non-null    int64  \n",
            " 7   Parch        891 non-null    int64  \n",
            " 8   Ticket       891 non-null    object \n",
            " 9   Fare         891 non-null    float64\n",
            " 10  Cabin        204 non-null    object \n",
            " 11  Embarked     889 non-null    object \n",
            "dtypes: float64(2), int64(5), object(5)\n",
            "memory usage: 83.7+ KB\n"
          ],
          "name": "stdout"
        }
      ]
    },
    {
      "cell_type": "code",
      "metadata": {
        "id": "w84OTFv9UDe_",
        "colab_type": "code",
        "colab": {}
      },
      "source": [
        ""
      ],
      "execution_count": null,
      "outputs": []
    }
  ]
}