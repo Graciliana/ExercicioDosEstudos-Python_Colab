{
  "nbformat": 4,
  "nbformat_minor": 0,
  "metadata": {
    "colab": {
      "name": "execicios_lista_e_array.ipynb",
      "provenance": [],
      "authorship_tag": "ABX9TyNkcqZPKwhWkgJkoKtozDNX",
      "include_colab_link": true
    },
    "kernelspec": {
      "name": "python3",
      "display_name": "Python 3"
    }
  },
  "cells": [
    {
      "cell_type": "markdown",
      "metadata": {
        "id": "view-in-github",
        "colab_type": "text"
      },
      "source": [
        "<a href=\"https://colab.research.google.com/github/Graciliana/ExercicioDosEstudos-Python_Colab/blob/master/execicios_lista_e_array.ipynb\" target=\"_parent\"><img src=\"https://colab.research.google.com/assets/colab-badge.svg\" alt=\"Open In Colab\"/></a>"
      ]
    },
    {
      "cell_type": "markdown",
      "metadata": {
        "id": "HH2bHtTdmttM",
        "colab_type": "text"
      },
      "source": [
        "EXECICIOS DE lISTAS E ARRAY\n",
        "1. cRIE UMA LISTA VAZIA, RECEBA DE UM INPUT DO USUARIO 3 NUMEROS E OS ADICIONE EM SUA LISTA. PRINT POR FIM SUA LSITA (FACIL\n"
      ]
    },
    {
      "cell_type": "code",
      "metadata": {
        "id": "0WBNWQjhnMTg",
        "colab_type": "code",
        "colab": {}
      },
      "source": [
        "lista_numeros = []\n",
        "lista_numeros.append(int(input(\"Inserir um numero por favor: \")))\n",
        "lista_numeros.append(int(input(\"Inserir um numero por favor: \")))\n",
        "lista_numeros.append(int(input(\"inserir em outro por favor\")))\n",
        "print(lista_numeros)\n"
      ],
      "execution_count": null,
      "outputs": []
    },
    {
      "cell_type": "markdown",
      "metadata": {
        "id": "O_x4Vcb-Y95z",
        "colab_type": "text"
      },
      "source": [
        "2. crie  uma lista dos numeros, ordenados com alguns métodos em dir(list)\n"
      ]
    },
    {
      "cell_type": "code",
      "metadata": {
        "id": "e90xGk82ZL7u",
        "colab_type": "code",
        "colab": {}
      },
      "source": [
        "num = [23, 4, 36, 12, 89, 2, 4, 88]\n",
        "palavras = [\"Mouse\", \"Torrent\", \"Hardware\", \"Browser\",\"App\", \"Programming\", \"Notebook\"]\n",
        "print(palavras)\n",
        "print(num)\n",
        "num.sort()\n",
        "print(\"Os numeros ordenados \")\n",
        "print(num)\n",
        "print(\"Palavras ordenadas\")\n",
        "palavras.sort()\n",
        "print(palavras)"
      ],
      "execution_count": null,
      "outputs": []
    },
    {
      "cell_type": "markdown",
      "metadata": {
        "id": "_ayYPuwyZyfm",
        "colab_type": "text"
      },
      "source": [
        "3. crie  uma lsita vazia receba do usuario, atraves de inputs, 3 palavras. Apresente-as ordem alfabetica inversa (de z a A)"
      ]
    },
    {
      "cell_type": "code",
      "metadata": {
        "id": "mBOqWaljaJ55",
        "colab_type": "code",
        "colab": {}
      },
      "source": [
        "lista_palavra = []\n",
        "lista_palavra.append(input(\"Digite a primeira palavra \"))\n",
        "lista_palavra.append( input(\"Digite a segunda palavra \"))\n",
        "lista_palavra.append (input(\"Digite a terceira palvra \"))\n",
        "print(\"palavras não ordenadas\")\n",
        "print(lista_palavra)\n",
        "lista_palavra.sort(reverse=True)\n",
        "print(\"Palavras ordenadas alfabeticamente inversa (de Z a A\")\n",
        "print(lista_palavra)"
      ],
      "execution_count": null,
      "outputs": []
    },
    {
      "cell_type": "markdown",
      "metadata": {
        "id": "wOmUFyv3gslG",
        "colab_type": "text"
      },
      "source": [
        "4. Desenhe um diagrama de referencias para a e b antes e depois de ser executada a terceita linha "
      ]
    },
    {
      "cell_type": "code",
      "metadata": {
        "id": "IxYrlFvcjpIQ",
        "colab_type": "code",
        "colab": {}
      },
      "source": [
        "a = [1,2,3]\n",
        "b = a[:]\n",
        "#b[0] = 5\n",
        "print(a)\n",
        "print(b)\n"
      ],
      "execution_count": null,
      "outputs": []
    },
    {
      "cell_type": "markdown",
      "metadata": {
        "id": "2KpkoTDmkbTP",
        "colab_type": "text"
      },
      "source": [
        "5. Cria uam lsita chamada minha_lista com os seguinte itens: 76, 92.3, \"oi\", True, 4, 76."
      ]
    },
    {
      "cell_type": "code",
      "metadata": {
        "id": "-EbUKUfOkw2n",
        "colab_type": "code",
        "colab": {}
      },
      "source": [
        "minha_lista = [76, 92.3, \"Oi\", True, 4, 76]\n",
        "print(minha_lista)"
      ],
      "execution_count": null,
      "outputs": []
    },
    {
      "cell_type": "markdown",
      "metadata": {
        "id": "s84ugNRZlUo8",
        "colab_type": "text"
      },
      "source": [
        "6. Escreva comandos para:\n",
        "  * 1- inserir \"pera\" e 76 no final da lista .\n",
        "  * 2 - inserir o valor \"gato\" na posição de índice 3.\n",
        "  * 3 - inserir o valor 99 no inicio da lista.\n",
        "  * 4 - Encontrar o Indice de \"oi\"\n",
        "  * 5 - contar o numero de ocorrencia de 76 da lista.\n",
        "  * 6 - Remover a primeira ocorrencia de 76 da lista.\n",
        "  * 7 - Remover True True da lsita usando pop e index\n"
      ]
    },
    {
      "cell_type": "code",
      "metadata": {
        "id": "qTyOC4KbmYhQ",
        "colab_type": "code",
        "colab": {}
      },
      "source": [
        "print(minha_lista)\n",
        "minha_lista.append(\"pera\")\n",
        "minha_lista.extend([76])\n",
        "print(minha_lista)\n",
        "minha_lista[3] = \"gato\"\n",
        "minha_lista[0] = 99\n",
        "print(minha_lista)\n",
        "minha_lista.pop()\n",
        "print(minha_lista)\n",
        "minha_lista.count(76)\n",
        "minha_lista.count(\"pera\")\n",
        "minha_lista.remove(76)\n",
        "print(minha_lista)\n",
        "\n"
      ],
      "execution_count": null,
      "outputs": []
    },
    {
      "cell_type": "code",
      "metadata": {
        "id": "j2kOBSS5nUMP",
        "colab_type": "code",
        "colab": {}
      },
      "source": [
        ""
      ],
      "execution_count": null,
      "outputs": []
    }
  ]
}