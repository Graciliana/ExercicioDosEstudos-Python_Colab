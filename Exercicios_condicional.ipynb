{
  "nbformat": 4,
  "nbformat_minor": 0,
  "metadata": {
    "colab": {
      "name": "Exercicios_condicional.ipynb",
      "provenance": [],
      "authorship_tag": "ABX9TyOh14KAZ3OmXeUE2BxWnUrA",
      "include_colab_link": true
    },
    "kernelspec": {
      "name": "python3",
      "display_name": "Python 3"
    }
  },
  "cells": [
    {
      "cell_type": "markdown",
      "metadata": {
        "id": "view-in-github",
        "colab_type": "text"
      },
      "source": [
        "<a href=\"https://colab.research.google.com/github/Graciliana/ExercicioDosEstudos-Python_Colab/blob/master/Exercicios_condicional.ipynb\" target=\"_parent\"><img src=\"https://colab.research.google.com/assets/colab-badge.svg\" alt=\"Open In Colab\"/></a>"
      ]
    },
    {
      "cell_type": "markdown",
      "metadata": {
        "id": "FpNDhXvDk6gR",
        "colab_type": "text"
      },
      "source": [
        "#Exercicio  de condicionais "
      ]
    },
    {
      "cell_type": "markdown",
      "metadata": {
        "id": "SAyM3hZalBSK",
        "colab_type": "text"
      },
      "source": [
        "1. Crie um algoritmo que solicite do usuario um numero e calcule se ele é positivo ou negativo(facil)"
      ]
    },
    {
      "cell_type": "code",
      "metadata": {
        "id": "Y9hmQS4vlMfQ",
        "colab_type": "code",
        "colab": {
          "base_uri": "https://localhost:8080/",
          "height": 108
        },
        "outputId": "b51c0891-ee1e-4793-82be-dd000f529409"
      },
      "source": [
        "print(\"Vamos Verificar se um numero é POSITIVO  ou NEGATIVO \\n\")\n",
        "number = float(input(\"Informe um número: \\n\"))\n",
        "if (number >=0 ):\n",
        "  print(f\"O número {number} é POSITIVO\")\n",
        "else:\n",
        "  print(f\"O número {number} é NEGATIVO\")  "
      ],
      "execution_count": 3,
      "outputs": [
        {
          "output_type": "stream",
          "text": [
            "Vamos Verificar se um numero é POSITIVO  ou NEGATIVO \n",
            "\n",
            "Informe um número: \n",
            "-4.9\n",
            "O número -4.9 é NEGATIVO\n"
          ],
          "name": "stdout"
        }
      ]
    },
    {
      "cell_type": "markdown",
      "metadata": {
        "id": "ZozRu_Qemkm4",
        "colab_type": "text"
      },
      "source": [
        "2. Crie um algoritmo que solicite peso e altura e como resultado print o IMC na tela\n",
        "\n",
        "\n",
        "**Classificação           |      IMC                 |  **\n",
        "\n",
        "muito abaixo do peso      |      16 a 16,9 kg/m2     |\n",
        "\n",
        "abaixo do peso            |      17 a 18,4 kg/m2 \n",
        "\n",
        "peso normal               |      18,5 a 24,9 kg/m2 \n",
        "\n",
        "acima do peso             |      25 a 29,9 kg/m2 \n",
        "\n",
        "obesidade grau 1          |      30 a 34,9 kg/m2 \n",
        "\n",
        "obseidade grau 2          |      35 a 40 kg/m2 \n",
        "\n",
        "obsidade grau 3           |    maior que 40 kg/m2 \n",
        "\n",
        "\n"
      ]
    },
    {
      "cell_type": "code",
      "metadata": {
        "id": "36lPZKOIm6Co",
        "colab_type": "code",
        "colab": {
          "base_uri": "https://localhost:8080/",
          "height": 108
        },
        "outputId": "90f7c38a-63cd-4da3-f722-2fc2477c1983"
      },
      "source": [
        "peso = float(input(\"Informe o seu peso: \"))\n",
        "altura = float(input(\"Informe a sua altura: \"))\n",
        "imc = peso/(altura**2)\n",
        "print(f\"O seu IMC é {imc}!\\n\")\n",
        "if imc < 16.9:\n",
        "  print(\"Muito abaixo do peso\")\n",
        "elif imc > 17 and imc < 18.4:\n",
        "  print(\"Abaixo do peso\")\n",
        "elif imc > 18.5 and imc < 24.9:\n",
        "  print(\"Peso normal\")\n",
        "elif imc > 25 and imc < 29.9:\n",
        "  print(\"Acima do peso\")\n",
        "elif imc > 30 and imc < 34.9:\n",
        "  print(\"Obesidade grau 1\")\n",
        "elif imc > 35 and imc < 40:\n",
        "  print(\"Obesidade grau 2\")\n",
        "else:\n",
        "  print(\"obesidade grau 3\")\n",
        "\n",
        "\n",
        "\n"
      ],
      "execution_count": 11,
      "outputs": [
        {
          "output_type": "stream",
          "text": [
            "Informe o seu peso: 64\n",
            "Informe a sua altura: 1.64\n",
            "O seu IMC é 23.795359904818564!\n",
            "\n",
            "Peso normal\n"
          ],
          "name": "stdout"
        }
      ]
    },
    {
      "cell_type": "markdown",
      "metadata": {
        "id": "JbfHoF1su4ad",
        "colab_type": "text"
      },
      "source": [
        "3. crie um algoritmo que solicite do usuario um número e print na tela PAR, quando número par e IMPAR , quando o numero impar(dificil)"
      ]
    },
    {
      "cell_type": "code",
      "metadata": {
        "id": "qRO7i1Iju-ev",
        "colab_type": "code",
        "colab": {
          "base_uri": "https://localhost:8080/",
          "height": 72
        },
        "outputId": "51c19b08-3c7c-4968-e649-f2f914bed000"
      },
      "source": [
        "numero = float( input(\"Digite um número inteiro: \\n\"))\n",
        "resto = numero % 2\n",
        "if resto == 0:\n",
        "  print(f\"O número {numero} é PAR\")\n",
        "else:\n",
        "  print(f\"O número {numero} é IMPAR\")\n"
      ],
      "execution_count": 20,
      "outputs": [
        {
          "output_type": "stream",
          "text": [
            "Digite um número inteiro: \n",
            "14\n",
            "O número 14.0 é PAR\n"
          ],
          "name": "stdout"
        }
      ]
    }
  ]
}