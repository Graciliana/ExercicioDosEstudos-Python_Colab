{
  "nbformat": 4,
  "nbformat_minor": 0,
  "metadata": {
    "colab": {
      "name": "exercicio_de_operadores.ipynb",
      "provenance": [],
      "authorship_tag": "ABX9TyNKcyepNskoWqhBjub76Cc1",
      "include_colab_link": true
    },
    "kernelspec": {
      "name": "python3",
      "display_name": "Python 3"
    }
  },
  "cells": [
    {
      "cell_type": "markdown",
      "metadata": {
        "id": "view-in-github",
        "colab_type": "text"
      },
      "source": [
        "<a href=\"https://colab.research.google.com/github/Graciliana/ExercicioDosEstudos-Python_Colab/blob/master/exercicio_de_operadores.ipynb\" target=\"_parent\"><img src=\"https://colab.research.google.com/assets/colab-badge.svg\" alt=\"Open In Colab\"/></a>"
      ]
    },
    {
      "cell_type": "markdown",
      "metadata": {
        "id": "wpFRS_28Hmnw",
        "colab_type": "text"
      },
      "source": [
        "# Exercicios de operadores matematicos \n",
        "\n",
        "1. Crie um algoritmo que solicite do usuário 2 números e apresente a soma de ambos(fácil)"
      ]
    },
    {
      "cell_type": "code",
      "metadata": {
        "id": "Sf93yE1FIOQ-",
        "colab_type": "code",
        "colab": {
          "base_uri": "https://localhost:8080/",
          "height": 108
        },
        "outputId": "7d957f62-8cbe-43db-e749-a529ffd927b4"
      },
      "source": [
        "#Exercicios 1 \n",
        "number_one = int(input(\"Digite um número: \\n\"))\n",
        "number_two = int(input(\"Digite o outro número: \\n\"))\n",
        "soma = number_one + number_two\n",
        "print(\"A soma: {}  + {} = {}\".format(number_one, number_two, soma))"
      ],
      "execution_count": 4,
      "outputs": [
        {
          "output_type": "stream",
          "text": [
            "Digite um número: \n",
            "12\n",
            "Digite o outro número: \n",
            "2\n",
            "A soma: 12  + 2 = 14\n"
          ],
          "name": "stdout"
        }
      ]
    },
    {
      "cell_type": "markdown",
      "metadata": {
        "id": "uV5w2mY3Ju-W",
        "colab_type": "text"
      },
      "source": [
        "Explorando mais o exercicio 1\n"
      ]
    },
    {
      "cell_type": "code",
      "metadata": {
        "id": "neGopZrnJ-yA",
        "colab_type": "code",
        "colab": {
          "base_uri": "https://localhost:8080/",
          "height": 54
        },
        "outputId": "fb3cf5ce-123a-4b9b-b215-651d98f56a65"
      },
      "source": [
        "#subtração\n",
        "subtracao = number_one - number_two\n",
        "print(\"A subtração: {} - {} = {}\".format(number_one, number_two, subtracao))\n",
        "\n",
        "#resto da divisão\n",
        "resto = number_one % number_two\n",
        "print(f\"Resto da divisão de dois números: {number_one} / {number_two} = {resto}\")"
      ],
      "execution_count": 6,
      "outputs": [
        {
          "output_type": "stream",
          "text": [
            "A subtração: 12 - 2 = 10\n",
            "Resto da divisão de dois números: 12 / 2 = 0\n"
          ],
          "name": "stdout"
        }
      ]
    },
    {
      "cell_type": "markdown",
      "metadata": {
        "id": "jzADVkd8MVWe",
        "colab_type": "text"
      },
      "source": [
        "2. Crie um algoritmo que solicite do usuário 2 números e apresente o intervalo numerico entre eles"
      ]
    },
    {
      "cell_type": "code",
      "metadata": {
        "id": "P0uQ6e3GMpj1",
        "colab_type": "code",
        "colab": {
          "base_uri": "https://localhost:8080/",
          "height": 145
        },
        "outputId": "ec0f1300-cfac-41ea-9011-f20e6fbeb33d"
      },
      "source": [
        "primeiro_numero = int(input(\"Digite um número: \\n\"))\n",
        "segundo_numero = int(input(\"Digite outro número: \\n\"))\n",
        "print(\"===========================================\")\n",
        "if (primeiro_numero < segundo_numero):\n",
        "  for x in range(primeiro_numero,segundo_numero+1):\n",
        "    print(x)\n",
        "elif primeiro_numero > segundo_numero:\n",
        "  for x in range(segundo_numero, primeiro_numero+1):\n",
        "    print(x)\n",
        "else: \n",
        "    print(\"os dois numeros sao iguais\")\n",
        "    print(primeiro_numero)\n"
      ],
      "execution_count": 23,
      "outputs": [
        {
          "output_type": "stream",
          "text": [
            "Digite um número: \n",
            "489\n",
            "Digite outro número: \n",
            "489\n",
            "===========================================\n",
            "os dois numeros sao iguais\n",
            "489\n"
          ],
          "name": "stdout"
        }
      ]
    },
    {
      "cell_type": "markdown",
      "metadata": {
        "id": "qRyEMfPaRKrk",
        "colab_type": "text"
      },
      "source": [
        "3. Crie um algoritmo que solicite do usuario 2 numeros e apresente minimo múltiplo comum (MmC)  e maximo divisor comun entre eles\n"
      ]
    },
    {
      "cell_type": "code",
      "metadata": {
        "id": "KD5Y0Zy5SuPQ",
        "colab_type": "code",
        "colab": {
          "base_uri": "https://localhost:8080/",
          "height": 145
        },
        "outputId": "5b2a4e12-ede1-4072-a50a-75e428b41a51"
      },
      "source": [
        "# primeiro extraimos o MDC e depois aplicamos a \n",
        "# formula MMC =  a * b /MDC\n",
        "# MMC(A,B) * MDC(A,B) = A*B\n",
        "#a = int(input(\"Digite um número: \\n\"))\n",
        "#b = int(input(\"Digite o outro número: \\n\"))\n",
        "\n",
        "def mdc(a,b):\n",
        "    if b == 0:\n",
        "        return a\n",
        "    return mdc(b, a % b)\n",
        "\n",
        "def mmc(a,b):\n",
        "    return abs(a*b) / mdc(a,b)\n",
        "\n",
        "print(\"MMC 10 e 5 --> %d\" % mmc(10,5))\n",
        "print(\"MMC 32 e 24 --> %d\" % mmc(32,24))\n",
        "print(\"MMC 5 e 3 --> %d\" % mmc(5,3))\n",
        "print(\"===========================\")\n",
        "print(\"MDC 10 e 5 --> %d\" % mdc(10,5))\n",
        "print(\"MDC 32 e 24 --> %d\" % mdc(32,24))\n",
        "print(\"MDC 5 e 3 --> %d\" % mdc(5,3))\n",
        "\n",
        "  \n",
        "\n",
        "\n"
      ],
      "execution_count": 20,
      "outputs": [
        {
          "output_type": "stream",
          "text": [
            "MMC 10 e 5 --> 10\n",
            "MMC 32 e 24 --> 96\n",
            "MMC 5 e 3 --> 15\n",
            "===========================\n",
            "MDC 10 e 5 --> 5\n",
            "MDC 32 e 24 --> 8\n",
            "MDC 5 e 3 --> 1\n"
          ],
          "name": "stdout"
        }
      ]
    }
  ]
}