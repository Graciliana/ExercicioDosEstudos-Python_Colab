{
  "nbformat": 4,
  "nbformat_minor": 0,
  "metadata": {
    "colab": {
      "name": "helloworld.ipynb",
      "provenance": [],
      "authorship_tag": "ABX9TyPJ7iNxmmmWjdvdO5IQliCR",
      "include_colab_link": true
    },
    "kernelspec": {
      "name": "python3",
      "display_name": "Python 3"
    }
  },
  "cells": [
    {
      "cell_type": "markdown",
      "metadata": {
        "id": "view-in-github",
        "colab_type": "text"
      },
      "source": [
        "<a href=\"https://colab.research.google.com/github/Graciliana/ExercicioDosEstudos-Python_Colab/blob/master/helloworld.ipynb\" target=\"_parent\"><img src=\"https://colab.research.google.com/assets/colab-badge.svg\" alt=\"Open In Colab\"/></a>"
      ]
    },
    {
      "cell_type": "markdown",
      "metadata": {
        "id": "Sef-p-Sz79yc",
        "colab_type": "text"
      },
      "source": [
        ""
      ]
    },
    {
      "cell_type": "code",
      "metadata": {
        "id": "hWSV7PGw54xO",
        "colab_type": "code",
        "colab": {}
      },
      "source": [
        "print(\"Hello Word\")"
      ],
      "execution_count": null,
      "outputs": []
    },
    {
      "cell_type": "code",
      "metadata": {
        "id": "N5SZwYKW8GCv",
        "colab_type": "code",
        "colab": {}
      },
      "source": [
        "x = input(\"Hello \")\n",
        "print(f\"Hello {x}\")"
      ],
      "execution_count": null,
      "outputs": []
    },
    {
      "cell_type": "code",
      "metadata": {
        "id": "ceQ6IOaDEh0g",
        "colab_type": "code",
        "colab": {}
      },
      "source": [
        "nome = input(\"Qual o seu nome?\")\n",
        "print(f\"Bem Vindx, {nome}\")"
      ],
      "execution_count": null,
      "outputs": []
    },
    {
      "cell_type": "markdown",
      "metadata": {
        "id": "Ga5r_yvN9rF7",
        "colab_type": "text"
      },
      "source": [
        ""
      ]
    }
  ]
}